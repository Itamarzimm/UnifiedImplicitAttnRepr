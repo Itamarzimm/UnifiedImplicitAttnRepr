{
 "cells": [
  {
   "cell_type": "code",
   "execution_count": 1,
   "metadata": {
    "tags": []
   },
   "outputs": [
    {
     "name": "stderr",
     "output_type": "stream",
     "text": [
      "C:\\Users\\019800756\\Anaconda3\\envs\\ocd\\lib\\site-packages\\tqdm\\auto.py:21: TqdmWarning: IProgress not found. Please update jupyter and ipywidgets. See https://ipywidgets.readthedocs.io/en/stable/user_install.html\n",
      "  from .autonotebook import tqdm as notebook_tqdm\n"
     ]
    }
   ],
   "source": [
    "import torch\n",
    "from transformers import AutoTokenizer, AutoModelForCausalLM\n",
    "from attn_vis_utils import normalize_attn_mat\n",
    "import matplotlib.pyplot as plt\n",
    "import transformers"
   ]
  },
  {
   "cell_type": "code",
   "execution_count": 2,
   "metadata": {
    "collapsed": false,
    "jupyter": {
     "outputs_hidden": false
    },
    "pycharm": {
     "name": "#%%\n"
    }
   },
   "outputs": [
    {
     "name": "stderr",
     "output_type": "stream",
     "text": [
      "Loading checkpoint shards: 100%|█████████████████████████████████████████████████████████| 2/2 [00:02<00:00,  1.15s/it]\n"
     ]
    }
   ],
   "source": [
    "model = AutoModelForCausalLM.from_pretrained(\"google/recurrentgemma-2b-it\", device_map=\"auto\").cpu()\n",
    "tokenizer = AutoTokenizer.from_pretrained(\"google/recurrentgemma-2b-it\")\n",
    "prompt = \"Alice was beginning to get very tired of sitting by her sister on the bank, and of having nothing to do: once or twice she had peeped into\"# the book her sister was reading, but it had no pictures or conversations in it, “and what is the use of a book,” thought Alice “without pictures or conversations?” So she was considering in her own mind (as well as she could, for the hot day made her feel very sleepy and stupid), whether the pleasure of making a daisy-chain would be worth the trouble of getting up and picking the daisies, when suddenly a White Rabbit with pink eyes\"# ran close by her. There was nothing so very remarkable in that; nor did Alice think it so very much out of the way to hear the Rabbit say to itself, “Oh dear! Oh dear! I shall be late!” (when she thought it over afterwards, it occurred to her that she ought to have wondered at this, but at the time it all seemed quite natural); but when the Rabbit actually took a watch out of its waistcoat-pocket, and looked at it, and then hurried on, Alice started to her feet, for it flashed across her mind that she had never before seen a rabbit with either a waistcoat-pocket, or a watch to take out of it, and burning with curiosity, she ran across the field after it, and fortunately was just in time to see it pop down a large rabbit-hole under the hedge. In another moment down went Alice after it, never once considering how in the world she was to get out again. The rabbit-hole went straight on like a tunnel for some way, and then dipped suddenly down, so suddenly that Alice had not a moment to think about stopping herself before she found herself falling down a very deep well. Either the well was very deep, or she fell very slowly, for she had plenty of time as she went down to look about her and to wonder what was going to happen next. First, she tried to look down and make out what she was coming to, but it was too dark to see anything; then she looked at the sides of the well, and noticed that they were filled with cupboards and book-shelves; here and there she saw maps and pictures hung upon pegs. She took down a jar from one of the shelves as she passed; it was labelled “ORANGE MARMALADE”, but to her great disappointment it was empty: she did not like to drop the jar for fear of killing somebody underneath, so managed to put it\"\n",
    "inputs = tokenizer(prompt, return_tensors=\"pt\").to(\"cpu\")"
   ]
  },
  {
   "cell_type": "code",
   "execution_count": 3,
   "metadata": {
    "collapsed": false,
    "jupyter": {
     "outputs_hidden": false
    },
    "pycharm": {
     "name": "#%%\n"
    }
   },
   "outputs": [
    {
     "name": "stdout",
     "output_type": "stream",
     "text": [
      "<class 'transformers.models.recurrent_gemma.modeling_recurrent_gemma.RecurrentGemmaRecurrentBlock'>\n"
     ]
    }
   ],
   "source": [
    "selected_layer = 0\n",
    "print(type(model.model.layers[selected_layer].temporal_block))\n",
    "#assert type(model.model.layers[selected_layer].temporal_block) == transformers.models.recurrent_gemma.modeling_recurrent_gemma.RecurrentGemmaSdpaAttention\n",
    "selected_chan = [0,1,2,3]#,1000,1001,1002,1003]\n"
   ]
  },
  {
   "cell_type": "code",
   "execution_count": 4,
   "metadata": {
    "collapsed": false,
    "jupyter": {
     "outputs_hidden": false
    },
    "pycharm": {
     "name": "#%%\n"
    }
   },
   "outputs": [
    {
     "data": {
      "text/plain": [
       "torch.Size([1, 2560, 32, 32])"
      ]
     },
     "execution_count": 4,
     "metadata": {},
     "output_type": "execute_result"
    }
   ],
   "source": [
    "model.model.layers[selected_layer].temporal_block.compute_attn_matrix = True\n",
    "model.model.layers[selected_layer].temporal_block.compute_attn_vec = False\n",
    "outputs = model.generate(**inputs, max_length=len(inputs[0])+1)\n",
    "attn_mat = model.model.layers[selected_layer].temporal_block.attn_matrix\n",
    "attn_mat.shape"
   ]
  },
  {
   "cell_type": "code",
   "execution_count": 5,
   "metadata": {
    "collapsed": false,
    "jupyter": {
     "outputs_hidden": false
    },
    "pycharm": {
     "name": "#%%\n"
    }
   },
   "outputs": [
    {
     "data": {
      "image/png": "[encoded data removed]",
      "text/plain": [
       "<Figure size 1000x1000 with 4 Axes>"
      ]
     },
     "metadata": {},
     "output_type": "display_data"
    }
   ],
   "source": [
    "fig, axs = plt.subplots(1, len(selected_chan), figsize=(10,10))\n",
    "for i,c in enumerate(selected_chan):\n",
    "    curr_attn_mat = normalize_attn_mat(attn_mat[0,c,:,:].abs())\n",
    "    axs[i].imshow(curr_attn_mat.cpu().detach().numpy())\n",
    "    axs[i].axis('off')"
   ]
  },
  {
   "cell_type": "code",
   "execution_count": 6,
   "metadata": {},
   "outputs": [],
   "source": [
    "def save_attention_matrix(attn_matrix, channel_index):\n",
    "    plt.figure(figsize=(6, 6))  # Create a new figure for the matrix\n",
    "    plt.imshow(attn_matrix.cpu().detach().numpy(), cmap='viridis')  # Display the matrix using a color map\n",
    "    plt.axis('off')  # Hide the axes\n",
    "    #plt.colorbar()  # Optionally add a colorbar to indicate the scale\n",
    "    filepath = f'griffin_attention_map_layer_{selected_layer}_channel_{channel_index}.png'  # Name the file based on the channel index\n",
    "    plt.savefig(filepath, dpi=300, bbox_inches='tight')  # Save the figure to a file\n",
    "    plt.close()  # Close the figure to free up memory\n",
    "\n",
    "for c in range(100):\n",
    "    curr_attn_mat = normalize_attn_mat(attn_mat[0, c, :, :].abs())\n",
    "    save_attention_matrix(curr_attn_mat, c)  #"
   ]
  },
  {
   "cell_type": "markdown",
   "metadata": {},
   "source": [
    "## Ablation matrices:"
   ]
  },
  {
   "cell_type": "code",
   "execution_count": 7,
   "metadata": {},
   "outputs": [
    {
     "data": {
      "image/png": "[encoded data removed]",
      "text/plain": [
       "<Figure size 1000x1000 with 4 Axes>"
      ]
     },
     "metadata": {},
     "output_type": "display_data"
    }
   ],
   "source": [
    "model.model.layers[selected_layer].temporal_block.compute_attn_matrix = True\n",
    "model.model.layers[selected_layer].temporal_block.compute_attn_vec = False\n",
    "model.model.layers[selected_layer].temporal_block.ablate_conv = True\n",
    "model.model.layers[selected_layer].temporal_block.ablate_gate = True\n",
    "outputs = model.generate(**inputs, max_length=len(inputs[0])+1)\n",
    "attn_mat = model.model.layers[selected_layer].temporal_block.attn_matrix\n",
    "fig, axs = plt.subplots(1, len(selected_chan), figsize=(10,10))\n",
    "for i,c in enumerate(selected_chan):\n",
    "    curr_attn_mat = normalize_attn_mat(attn_mat[0,c,:,:].abs())\n",
    "    axs[i].imshow(curr_attn_mat.cpu().detach().numpy())\n",
    "    axs[i].axis('off')\n",
    "model.model.layers[selected_layer].temporal_block.compute_attn_matrix = False\n",
    "model.model.layers[selected_layer].temporal_block.ablate_conv = False\n",
    "model.model.layers[selected_layer].temporal_block.ablate_gate = False"
   ]
  },
  {
   "cell_type": "markdown",
   "metadata": {},
   "source": [
    "## Attention vectors (cls-to-others)"
   ]
  },
  {
   "cell_type": "code",
   "execution_count": 8,
   "metadata": {},
   "outputs": [
    {
     "data": {
      "image/png": "[encoded data removed]",
      "text/plain": [
       "<Figure size 1400x1000 with 4 Axes>"
      ]
     },
     "metadata": {},
     "output_type": "display_data"
    }
   ],
   "source": [
    "model.model.layers[selected_layer].temporal_block.compute_attn_vec = True\n",
    "model.model.layers[selected_layer].temporal_block.compute_attn_matrix = False\n",
    "outputs = model.generate(**inputs, max_length=len(inputs[0])+1)\n",
    "attn_vec = model.model.layers[selected_layer].temporal_block.attn_vec\n",
    "fig, axs = plt.subplots(1, len(selected_chan), figsize=(14,10))\n",
    "for i,c in enumerate(selected_chan):\n",
    "    curr_attn_vec = normalize_attn_mat(attn_vec[0,c,:].unsqueeze(-2).abs())\n",
    "    axs[i].imshow(curr_attn_vec.cpu().detach().numpy())\n",
    "    axs[i].axis('off')\n",
    "model.model.layers[selected_layer].temporal_block.compute_attn_vec = False\n",
    "model.model.layers[selected_layer].temporal_block.compute_attn_matrix = False"
   ]
  },
  {
   "cell_type": "markdown",
   "metadata": {},
   "source": [
    "## Ablate attention-cls vectors"
   ]
  },
  {
   "cell_type": "code",
   "execution_count": 9,
   "metadata": {},
   "outputs": [
    {
     "data": {
      "image/png": "[encoded data removed]",
      "text/plain": [
       "<Figure size 1400x1000 with 4 Axes>"
      ]
     },
     "metadata": {},
     "output_type": "display_data"
    }
   ],
   "source": [
    "model.model.layers[selected_layer].temporal_block.compute_attn_vec = True\n",
    "model.model.layers[selected_layer].temporal_block.compute_attn_matrix = False\n",
    "model.model.layers[selected_layer].temporal_block.ablate_conv = True\n",
    "model.model.layers[selected_layer].temporal_block.ablate_gate = True\n",
    "outputs = model.generate(**inputs, max_length=len(inputs[0])+1)\n",
    "attn_vec = model.model.layers[selected_layer].temporal_block.attn_vec\n",
    "fig, axs = plt.subplots(1, len(selected_chan), figsize=(14,10))\n",
    "for i,c in enumerate(selected_chan):\n",
    "    curr_attn_vec = normalize_attn_mat(attn_vec[0,c,:].unsqueeze(-2).abs())\n",
    "    axs[i].imshow(curr_attn_vec.cpu().detach().numpy())\n",
    "    axs[i].axis('off')\n",
    "model.model.layers[selected_layer].temporal_block.compute_attn_vec = False\n",
    "model.model.layers[selected_layer].temporal_block.compute_attn_matrix = False\n",
    "model.model.layers[selected_layer].temporal_block.ablate_conv = False\n",
    "model.model.layers[selected_layer].temporal_block.ablate_gate = False"
   ]
  }
 ],
 "metadata": {
  "kernelspec": {
   "display_name": "Python 3 (ipykernel)",
   "language": "python",
   "name": "python3"
  },
  "language_info": {
   "codemirror_mode": {
    "name": "ipython",
    "version": 3
   },
   "file_extension": ".py",
   "mimetype": "text/x-python",
   "name": "python",
   "nbconvert_exporter": "python",
   "pygments_lexer": "ipython3",
   "version": "3.8.13"
  }
 },
 "nbformat": 4,
 "nbformat_minor": 4
}
